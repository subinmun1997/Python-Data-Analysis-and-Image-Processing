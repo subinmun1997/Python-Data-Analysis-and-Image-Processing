{
  "nbformat": 4,
  "nbformat_minor": 0,
  "metadata": {
    "colab": {
      "name": "NumpyUtilization.ipynb",
      "provenance": [],
      "authorship_tag": "ABX9TyPXFDHAQFwg89tUqNjR6kPp",
      "include_colab_link": true
    },
    "kernelspec": {
      "name": "python3",
      "display_name": "Python 3"
    }
  },
  "cells": [
    {
      "cell_type": "markdown",
      "metadata": {
        "id": "view-in-github",
        "colab_type": "text"
      },
      "source": [
        "<a href=\"https://colab.research.google.com/github/subinmun1997/Python-DataAnalysis-and-ImageProcessing/blob/main/NumpyUtilization.ipynb\" target=\"_parent\"><img src=\"https://colab.research.google.com/assets/colab-badge.svg\" alt=\"Open In Colab\"/></a>"
      ]
    },
    {
      "cell_type": "code",
      "metadata": {
        "colab": {
          "base_uri": "https://localhost:8080/"
        },
        "id": "N4OCU0HvTS3e",
        "outputId": "d08c3d2c-9a8c-472b-a45a-0318b943ab35"
      },
      "source": [
        "import numpy as np\n",
        "\n",
        "# 단일 객체 저장 및 불러오기\n",
        "array = np.arange(0, 10)\n",
        "np.save('saved.npy', array)\n",
        "\n",
        "result = np.load('saved.npy')\n",
        "print(result)"
      ],
      "execution_count": 5,
      "outputs": [
        {
          "output_type": "stream",
          "text": [
            "[0 1 2 3 4 5 6 7 8 9]\n"
          ],
          "name": "stdout"
        }
      ]
    },
    {
      "cell_type": "code",
      "metadata": {
        "colab": {
          "base_uri": "https://localhost:8080/"
        },
        "id": "n6eMY6QUmXSY",
        "outputId": "543f3d1f-5cee-4838-b780-4a8f0582e5a3"
      },
      "source": [
        "import numpy as np\n",
        "\n",
        "# 복수 객체 저장 및 불러오기\n",
        "array1 = np.arange(0, 10)\n",
        "array2 = np.arange(10, 20)\n",
        "np.savez('saved.npz', array1=array1, array2=array2)\n",
        "# savez 복수개의 numpy 객체를 파일 형태로 저장하고자 할 때 사용\n",
        "data = np.load('saved.npz')\n",
        "result1 = data['array1']\n",
        "result2 = data['array2']\n",
        "\n",
        "print(result1)\n",
        "print(result2)"
      ],
      "execution_count": 6,
      "outputs": [
        {
          "output_type": "stream",
          "text": [
            "[0 1 2 3 4 5 6 7 8 9]\n",
            "[10 11 12 13 14 15 16 17 18 19]\n"
          ],
          "name": "stdout"
        }
      ]
    },
    {
      "cell_type": "code",
      "metadata": {
        "colab": {
          "base_uri": "https://localhost:8080/"
        },
        "id": "-SkN7JNPnYgj",
        "outputId": "bfcb3d73-4874-4e81-e5bf-c7736f4f31a2"
      },
      "source": [
        "import numpy as np\n",
        "\n",
        "# Numpy 원소 오름차순 정렬\n",
        "array = np.array([5,9,10,3,1])\n",
        "print(array)\n",
        "array.sort()\n",
        "print(array)\n",
        "\n",
        "# Numpy 원소 내림차순 정렬\n",
        "array = np.array([5,9,10,3,1])\n",
        "print(array)\n",
        "array.sort()\n",
        "print(array[::-1]) # 인덱싱 기법을 활용하여 거꾸로 출력\n",
        "\n",
        "# 각 열을 기준으로 정렬\n",
        "array = np.array([[5,9,10,3,1],[8,3,4,2,5]])\n",
        "print(array)\n",
        "array.sort(axis=0) # 이때 정렬을 수행함에 있어서 기준을 행으로 삼으면 각각의 열을 봤을 때 더 큰 행이 아래쪽으로 내려오게됨\n",
        "#즉, 각각의 열을 기준으로 정렬 수행\n",
        "print(array)"
      ],
      "execution_count": 7,
      "outputs": [
        {
          "output_type": "stream",
          "text": [
            "[ 5  9 10  3  1]\n",
            "[ 1  3  5  9 10]\n",
            "[ 5  9 10  3  1]\n",
            "[10  9  5  3  1]\n",
            "[[ 5  9 10  3  1]\n",
            " [ 8  3  4  2  5]]\n",
            "[[ 5  3  4  2  1]\n",
            " [ 8  9 10  3  5]]\n"
          ],
          "name": "stdout"
        }
      ]
    },
    {
      "cell_type": "code",
      "metadata": {
        "colab": {
          "base_uri": "https://localhost:8080/"
        },
        "id": "2qpOtBYxsvt0",
        "outputId": "fefb58f3-855d-4f11-bed8-c024e8972fa9"
      },
      "source": [
        "import numpy as np\n",
        "\n",
        "# 균일한 간격으로 데이터 생성\n",
        "array = np.linspace(0, 10, 5) # 0 ~ 10 사이의 5개의 데이터만 출력\n",
        "print(array)\n",
        "\n",
        "# 난수의 생성(실행마다 결과 동일)\n",
        "np.random.seed(7)\n",
        "print(np.random.randint(0, 10, (2, 3))) # array1의 값을 변경하더라도 array2에는 영향x\n",
        "\n",
        "# Numpy 배열 객체 복사\n",
        "array1 = np.arange(0, 10)\n",
        "array2 = array1.copy()\n",
        "print(array2) \n",
        "\n",
        "# 중복된 원소 제거\n",
        "array = np.array([1, 1, 2, 3, 3, 3, 1])\n",
        "print(np.unique(array))"
      ],
      "execution_count": 9,
      "outputs": [
        {
          "output_type": "stream",
          "text": [
            "[ 0.   2.5  5.   7.5 10. ]\n",
            "[[4 9 6]\n",
            " [3 3 7]]\n",
            "[0 1 2 3 4 5 6 7 8 9]\n",
            "[1 2 3]\n"
          ],
          "name": "stdout"
        }
      ]
    }
  ]
}